{
 "cells": [
  {
   "cell_type": "markdown",
   "metadata": {
    "vscode": {
     "languageId": "plaintext"
    }
   },
   "source": [
    "# Exam "
   ]
  },
  {
   "cell_type": "markdown",
   "metadata": {},
   "source": [
    "### Imports"
   ]
  },
  {
   "cell_type": "code",
   "execution_count": 1,
   "metadata": {},
   "outputs": [],
   "source": [
    "from quantkit import *\n",
    "import numpy as np\n",
    "import matplotlib.pyplot as plt\n",
    "import pickle\n",
    "plt.style.use('tableau-colorblind10')"
   ]
  },
  {
   "cell_type": "markdown",
   "metadata": {},
   "source": [
    "## Simulation\n"
   ]
  },
  {
   "cell_type": "markdown",
   "metadata": {},
   "source": [
    "### Global Parameters"
   ]
  },
  {
   "cell_type": "code",
   "execution_count": null,
   "metadata": {},
   "outputs": [],
   "source": [
    "# -----------------------------\n",
    "# Time evolution\n",
    "# -----------------------------\n",
    "\n",
    "t_start   = 0\n",
    "t_end     = 20\n",
    "timesteps = 200\n",
    "\n",
    "# -----------------------------\n",
    "# Rydberg Chain\n",
    "# -----------------------------\n",
    "\n",
    "Omega = -1. \n",
    "delta = -0.\n",
    "Delta = .0*Omega\n",
    "L     = 12\n",
    "dA    = 2**6\n",
    "dB    = 2**6\n",
    "\n",
    "# -----------------------------\n",
    "# Schwinger Model\n",
    "# -----------------------------\n",
    "\n",
    "w     = -Omega\n",
    "m     = -delta\n",
    "J     = 15*w\n",
    "alpha = -0.5\n",
    "L_s   = 12\n",
    "\n",
    "# -----------------------------\n",
    "# Initial states\n",
    "# -----------------------------\n",
    "\n",
    "# Rydberg\n",
    "P      = blockade_projection_matrix(L)\n",
    "psi0_r = generate_initial_state(L, model = 'rydberg', kind='vacuum')\n",
    "psi0_r = P @ psi0_r\n",
    "psi0_r /= np.linalg.norm(psi0_r)\n",
    "\n",
    "# Schwinger\n",
    "psi0_s = generate_initial_state(L_s, model = 'schwinger', kind='vacuum')"
   ]
  },
  {
   "cell_type": "markdown",
   "metadata": {},
   "source": [
    "### Hamiltonians and Diagonalization"
   ]
  },
  {
   "cell_type": "code",
   "execution_count": null,
   "metadata": {},
   "outputs": [],
   "source": [
    "# Rydberg\n",
    "L_eff = P.shape[0]\n",
    "H_FSS = P @ Compute_H_FSS_sparse(Omega, delta, L, Delta) @ P.T\n",
    "H_FSS = H_FSS.toarray()\n",
    "e_vals_r, e_vecs_r = np.linalg.eigh(H_FSS)\n",
    "C_r   = np.ravel(e_vecs_r.conj().T @ psi0_r)\n",
    "\n",
    "# Schwinger\n",
    "H_sch = Compute_H_schwinger_sparse(w, m, J, alpha, L_s).todense()\n",
    "e_vals_s, e_vecs_s = np.linalg.eigh(H_sch)\n",
    "C_s   = np.ravel(e_vecs_s.conj().T @ psi0_s)"
   ]
  },
  {
   "cell_type": "code",
   "execution_count": null,
   "metadata": {},
   "outputs": [],
   "source": [
    "# -----------------------------\n",
    "# Save Rydberg data for later analysis\n",
    "# -----------------------------\n",
    "\n",
    "# Eigenvalues, eigenvectors and coefficients\n",
    "np.save(\"rydberg_evals.npy\", e_vals_r)           # shape (dim,)\n",
    "np.save(\"rydberg_evecs.npy\", e_vecs_r)           # shape (dim, dim)\n",
    "np.save(\"rydberg_coeffs.npy\", C_r)               # shape (dim,)\n",
    "\n",
    "# Projector (needed for entropy calculation)\n",
    "with open(\"projector_P.pkl\", \"wb\") as f:\n",
    "    pickle.dump(P, f)\n",
    "\n",
    "# Bipartition dimensions (for entropy)\n",
    "np.save(\"rydberg_dA.npy\", np.array(dA))\n",
    "np.save(\"rydberg_dB.npy\", np.array(dB))"
   ]
  },
  {
   "cell_type": "markdown",
   "metadata": {},
   "source": [
    "### Time Evolution"
   ]
  },
  {
   "cell_type": "code",
   "execution_count": null,
   "metadata": {},
   "outputs": [],
   "source": [
    "t_vals = np.linspace(t_start, t_end, timesteps)\n",
    "\n",
    "# Function to produce |psi(t)> arrays\n",
    "psi_t_r_list = [np.ravel(psi_t(t, e_vals_r, e_vecs_r, C_r, normalize=True)) for t in t_vals]\n",
    "psi_t_s_list = [np.ravel(psi_t(t, e_vals_s, e_vecs_s, C_s, normalize=True)) for t in t_vals]\n",
    "\n",
    "# -----------------------------\n",
    "# ### Observables\n",
    "# -----------------------------\n",
    "\n",
    "# Rydberg\n",
    "n_ops_r = [P @ op @ P.T for op in n_operators_by_site(L)]\n",
    "E_ops_r = [P @ op @ P.T for op in E_operators_by_site(L)]\n",
    "rho_r   = [P @ op @ P.T for op in matter_density_by_site(L, model='QLM')]\n",
    "\n",
    "# Schwinger\n",
    "n_ops_s = n_operators_by_site(L_s)\n",
    "E_ops_s = E_operators_by_site_schwinger(L_s, alpha)\n",
    "rho_s = matter_density_by_site(L_s, model='schwinger')"
   ]
  },
  {
   "cell_type": "markdown",
   "metadata": {},
   "source": [
    "### Model Comparison"
   ]
  },
  {
   "cell_type": "code",
   "execution_count": null,
   "metadata": {},
   "outputs": [],
   "source": [
    "models        = [\"Rydberg\", \"Schwinger\"]\n",
    "psi_t_lists   = [psi_t_r_list, psi_t_s_list]\n",
    "n_ops_lists   = [n_ops_r, n_ops_s]\n",
    "E_ops_lists   = [E_ops_r, E_ops_s]\n",
    "rho_ops_lists = [rho_r, rho_s]\n",
    "\n",
    "results = compute_model_expectations(\n",
    "    models=[\"Rydberg\", \"Schwinger\"],\n",
    "    psi_t_lists=psi_t_lists,\n",
    "    n_ops_lists=n_ops_lists,\n",
    "    E_ops_lists=E_ops_lists,\n",
    "    rho_ops_lists=rho_ops_lists\n",
    ")\n",
    "\n",
    "plot_model_expectations(results, t_vals)\n"
   ]
  },
  {
   "cell_type": "code",
   "execution_count": null,
   "metadata": {},
   "outputs": [],
   "source": [
    "rydberg_results   = {\"n\": results[\"Rydberg\"][\"n\"], \"E\": results[\"Rydberg\"][\"E\"]}\n",
    "schwinger_results = {\"E\": results[\"Schwinger\"][\"E\"]}\n",
    "\n",
    "plot_rydberg_schwinger(rydberg_results, schwinger_results, t_vals)"
   ]
  },
  {
   "cell_type": "code",
   "execution_count": null,
   "metadata": {},
   "outputs": [],
   "source": [
    "rho_expect_r = results[\"Rydberg\"][\"rho\"]\n",
    "echo = compute_echo(psi_t_r_list, psi0_r)\n",
    "entropy = compute_entropy(psi_t_r_list, P.T, dA, dB)\n",
    "\n",
    "plot_echo_entropy(t_vals, echo, entropy, rho_expect_r)"
   ]
  },
  {
   "cell_type": "code",
   "execution_count": null,
   "metadata": {},
   "outputs": [],
   "source": [
    "E_expect_r = results[\"Rydberg\"][\"E\"]\n",
    "sites = (4,9)\n",
    "plot_electric_field(t_vals, E_expect_r, sites)"
   ]
  },
  {
   "cell_type": "code",
   "execution_count": null,
   "metadata": {},
   "outputs": [],
   "source": [
    "freqs, spectrum = compute_fft(t_vals, results[\"Rydberg\"][\"E\"])\n",
    "\n",
    "# Plot\n",
    "plot_fft(freqs, spectrum, observable_name=\"Electric Field\", site_index=6)"
   ]
  },
  {
   "cell_type": "code",
   "execution_count": null,
   "metadata": {},
   "outputs": [],
   "source": [
    "freqs, spectrum = compute_fft(t_vals, results[\"Rydberg\"][\"rho\"])\n",
    "\n",
    "# Plot\n",
    "plot_fft(freqs, spectrum, observable_name=\"Matter Antimatter Density\", site_index=0)"
   ]
  },
  {
   "cell_type": "code",
   "execution_count": null,
   "metadata": {},
   "outputs": [],
   "source": [
    "freqs, spectrum = compute_fft(t_vals, echo)\n",
    "\n",
    "# Plot\n",
    "plot_fft(freqs, spectrum, observable_name=\"Echo\", site_index=0)"
   ]
  },
  {
   "cell_type": "code",
   "execution_count": null,
   "metadata": {},
   "outputs": [],
   "source": [
    "freqs, spectrum = compute_fft(t_vals, entropy)\n",
    "\n",
    "# Plot\n",
    "plot_fft(freqs, spectrum, observable_name=\"entropy\", site_index=0)"
   ]
  },
  {
   "cell_type": "markdown",
   "metadata": {},
   "source": [
    "### Other Plots"
   ]
  },
  {
   "cell_type": "code",
   "execution_count": null,
   "metadata": {},
   "outputs": [],
   "source": [
    "prob_r = np.abs(C_r)**2\n",
    "\n",
    "# Apply mask directly without sorting\n",
    "mask = prob_r >= 1.e-9\n",
    "e_masked = np.array(e_vals_r)[mask]\n",
    "p_masked = np.array(prob_r)[mask]\n",
    "\n",
    "plt.figure(figsize=(9,5))\n",
    "\n",
    "# Stem-like plot\n",
    "plt.vlines(e_masked, ymin=2e-9, ymax=p_masked, color=\"tab:blue\", alpha=0.6, linewidth=0.8)\n",
    "plt.plot(e_masked, p_masked, \"o\", markersize=4, color=\"tab:blue\", label=\"Spectral weight\")\n",
    "\n",
    "# Highlight significant overlaps\n",
    "threshold = 2.e-2\n",
    "mask_sig = p_masked > threshold\n",
    "plt.plot(e_masked[mask_sig], p_masked[mask_sig], \"o\", markersize=6, color=\"tab:red\", label=\"Significant\")\n",
    "\n",
    "# Labels and formatting\n",
    "plt.xlabel(r\"Eigenvalue $E_n$\", fontsize=12)\n",
    "plt.ylabel(r\"$|\\langle \\phi_n | \\psi_0 \\rangle|^2$\", fontsize=12)\n",
    "plt.title(\"Rydberg Spectral Decomposition\", fontsize=14)\n",
    "plt.yscale(\"log\")\n",
    "plt.grid(True, which=\"both\", linestyle=\"--\", linewidth=0.6, alpha=0.7)\n",
    "plt.legend()\n",
    "plt.tight_layout()\n",
    "\n",
    "plt.show()\n"
   ]
  },
  {
   "cell_type": "code",
   "execution_count": null,
   "metadata": {},
   "outputs": [],
   "source": [
    "# 1. Compute entropy for ALL eigenstates\n",
    "all_psi_list = [e_vecs_r[:, i] for i in range(e_vecs_r.shape[1])]\n",
    "entropy_all = compute_entropy(all_psi_list, projector=P.T, dA=dA, dB=dB)\n",
    "entropy_masked = (entropy_all[mask])[mask_sig]\n",
    "# 2. Plot entropy vs eigenvalue for all states\n",
    "plt.figure(figsize=(9,5))\n",
    "plt.plot(e_vals_r, entropy_all, \"o\", color=\"tab:blue\", markersize=4, alpha=0.6, label=\"All eigenstates\")\n",
    "\n",
    "# 3. Highlight selected subset\n",
    "plt.plot(e_masked[mask_sig], entropy_masked, \"o\", color=\"tab:red\", markersize=6, label=\"Selected\")\n",
    "\n",
    "# Labels and formatting\n",
    "plt.xlabel(r\"Eigenvalue $E_n$\", fontsize=12)\n",
    "plt.ylabel(\"Entanglement Entropy (bits)\", fontsize=12)\n",
    "plt.title(\"Entanglement Entropy vs Eigenvalue\", fontsize=14)\n",
    "plt.grid(True, linestyle=\"--\", linewidth=0.6, alpha=0.7)\n",
    "plt.legend()\n",
    "plt.tight_layout()\n",
    "plt.show()\n"
   ]
  },
  {
   "cell_type": "code",
   "execution_count": null,
   "metadata": {},
   "outputs": [],
   "source": [
    "# Energy spectra\n",
    "plt.figure(figsize=(8,4))\n",
    "plt.plot(np.sort(e_vals_r), '.', markersize=1, label=\"Rydberg\")\n",
    "plt.plot(np.sort(e_vals_s), '.', markersize=1, label=\"Schwinger\")\n",
    "plt.title(\"Energy Spectra\")\n",
    "plt.xlabel(\"Eigenstate Index\")\n",
    "plt.ylabel(\"Energy\")\n",
    "plt.legend()\n",
    "plt.grid(True)\n",
    "plt.show()\n"
   ]
  }
 ],
 "metadata": {
  "kernelspec": {
   "display_name": "Python 3 (ipykernel)",
   "language": "python",
   "name": "python3"
  },
  "language_info": {
   "codemirror_mode": {
    "name": "ipython",
    "version": 3
   },
   "file_extension": ".py",
   "mimetype": "text/x-python",
   "name": "python",
   "nbconvert_exporter": "python",
   "pygments_lexer": "ipython3",
   "version": "3.13.5"
  }
 },
 "nbformat": 4,
 "nbformat_minor": 4
}
